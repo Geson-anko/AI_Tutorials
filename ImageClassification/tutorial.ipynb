{
 "cells": [
  {
   "cell_type": "markdown",
   "metadata": {},
   "source": [
    "# Welcome to 画像分類AI tutorial!\n",
    "ここでは画像を分類するAIを作ります。コードブロックを一つ一つ実行していくとなんと画像を勝手に分類してくれるAIができます。  \n",
    "ここに出てくるプログラムコードを自分で書き写して実行してみるといいでしょう。  \n",
    "それでは始めていきましょう！"
   ]
  },
  {
   "cell_type": "markdown",
   "metadata": {},
   "source": [
    "### 目次\n",
    "1. ライブラリ\n",
    "2. データ処理について\n",
    "3. AIモデルの定義\n",
    "4. 学習スクリプト\n",
    "5. 評価スクリプト\n",
    "6. 実行してみる\n",
    "7. 結果をみてみる\n",
    "8. 自分の画像を判別させてみよう"
   ]
  },
  {
   "cell_type": "code",
   "execution_count": null,
   "metadata": {},
   "outputs": [],
   "source": [
    "# 演算デバイスの指定。cpuのほかにcudaなどのGPUデバイスも使える。（パソコンに搭載されていれば)\n",
    "# cudaのほうがAIの計算が物理的に速い\n",
    "device = \"cpu\""
   ]
  },
  {
   "cell_type": "markdown",
   "metadata": {},
   "source": [
    "## ・ライブラリを使う\n",
    "さあAIを作りましょう！といっても本当に処理を一から作っていったのでは埒があきません。そこで先人の知恵と道具を借りましょう。それが「ライブラリ」です。  \n",
    "```import Namae```や```from Namae1 import Namae2```ですでにインストールされているライブラリを使います。これからもちょくちょく出てきます。  \n",
    "ちなみにPythonのライブラリの主なインストール方法は```pip install Namae```です。詳しくは公式ドキュメントを参照ください。  \n",
    "https://docs.python.org/ja/3/installing/index.html"
   ]
  },
  {
   "cell_type": "code",
   "execution_count": null,
   "metadata": {},
   "outputs": [],
   "source": [
    "import torch # Deep Learningのためのライブラリです。\n",
    "import torchvision # 画像処理のためのライブラリです。\n",
    "import torchvision.transforms as transforms # 画像処理のライブラリから「変換」に特化したものを持ってきます"
   ]
  },
  {
   "cell_type": "markdown",
   "metadata": {},
   "source": [
    "Google Colabでこのチュートリアルを実行するときは次のコードブロックを実行してライブラリをインストールしてください。"
   ]
  },
  {
   "cell_type": "code",
   "execution_count": null,
   "metadata": {},
   "outputs": [],
   "source": [
    "!pip install torchsummaryX"
   ]
  },
  {
   "cell_type": "markdown",
   "metadata": {},
   "source": [
    "## ・データ関する処理\n",
    "AIはただそこにいるだけでできるわけではありません。ちゃんと学習するためのデータが必要です。  "
   ]
  },
  {
   "cell_type": "markdown",
   "metadata": {},
   "source": [
    "### データを前処理する  \n",
    "実はデータを集めただけではAIに読み込ませることができません。ちゃんと「型」や「形式」をそろえる必要があります。  \n",
    "世の中に様々な礼儀作法が存在するように、データにもそれに合わせたお作法があります。  \n",
    "下のコードでは前処理の方法を決めています。\n",
    "  \n",
    "今回は次のような型と形式を取ります。    \n",
    "型      : torch.Tensor  \n",
    "形式    : 各ピクセル0~1の値の範囲を取り、RGBの3カラーチャネル、32x32の大きさの画像  "
   ]
  },
  {
   "cell_type": "code",
   "execution_count": null,
   "metadata": {},
   "outputs": [],
   "source": [
    "transform = transforms.Compose(\n",
    "    [transforms.ToTensor()] # ダウンロードしてきたデータを torch.Tensorという「型」にした上で、\n",
    "                            # 値の範囲を 0 ~ 1 の間に正規化する関数。\n",
    "                            # ただの画像データからtorch.Tensorという型にすることで初めてAIの\n",
    "                            # 処理にデータを使うことができる。\n",
    "                            # 今から作るAIは、データの型と形式さえあっていれば処理することがで\n",
    "                            # きる。\n",
    ")"
   ]
  },
  {
   "cell_type": "markdown",
   "metadata": {},
   "source": [
    "### データを集める\n",
    "AI製作にとって切っても切れないことが、データを集めることです。入力データとその答えをできるだけたくさん集めて学習させます。  \n",
    "今回はすでに集めてあるCIFAR10というデータセットを用います。入力データは画像で、答えのデータは各ラベルに対応する数字です。  \n",
    ">0 -> plane   \n",
    ">1 -> car   \n",
    ">...  \n",
    ">9 -> truck  \n",
    "\n",
    "といったように対応付けられています\n",
    "  \n",
    "勉強した問題をそのままテストに出したら誰でも100点をとれてしまって意味がないように、AIにも学習用とテスト用のデータを分けます。  \n",
    "CIFAR10は学習用に50000枚、テスト用に10000枚のデータが用意されています。"
   ]
  },
  {
   "cell_type": "code",
   "execution_count": null,
   "metadata": {},
   "outputs": [],
   "source": [
    "trainset = torchvision.datasets.CIFAR10(root='./data', # このファイルと同じ場所の`data`というフォルダに学習用データを保存します。\n",
    "                                        train=True, # 学習用という意味です。\n",
    "                                        download=True, # ダウンロードしてきます。\n",
    "                                        transform=transform, # 先ほどの前処理を適用します。\n",
    "                                        )\n",
    "\n",
    "testset = torchvision.datasets.CIFAR10(root='./data', train=False,\n",
    "                                       download=True, transform=transform)\n",
    "\n",
    "classes = [# 各数字に対応するラベルのリスト\n",
    "    'plane', 'car', 'bird', 'cat','deer', \n",
    "    'dog', 'frog', 'horse', 'ship', 'truck'] "
   ]
  },
  {
   "cell_type": "markdown",
   "metadata": {},
   "source": [
    "### データを見る\n",
    "さあ集めたデータを見てみましょう。"
   ]
  },
  {
   "cell_type": "code",
   "execution_count": null,
   "metadata": {},
   "outputs": [],
   "source": [
    "%matplotlib inline\n",
    "import matplotlib.pyplot as plt # グラフなどを描画するための道具が詰まったライブラリです。\n",
    "\n",
    "row, col = 2,5 # 2x5のグラフウィンドウを作ります。\n",
    "now_index = 0\n",
    "fig, axes = plt.subplots(row,col,figsize=(col*2+1,row*2+2)) # 空のグラフを作って\n",
    "for r in range(row):\n",
    "    for c in range(col):\n",
    "        out = trainset[now_index] # データを一つ取り出します。(画像,ラベルの数字)の順番で返されます。\n",
    "        img = out[0].permute(1,2,0).cpu().numpy() # matplotlib描画するための画像形式にします\n",
    "        label =  out[1] # ラベルデータを取り出して\n",
    "        ax = axes[r][c] # r行c列目の空のグラフを取り出して\n",
    "        ax.imshow(img)  # 画像を埋め込みます。\n",
    "        ax.set_title(classes[label]) # タイトルをclassesから追加して、\n",
    "        now_index += 1 # 次のデータを取り出します。\n",
    "plt.show() # 全体のグラフウィンドウを描画します。\n"
   ]
  },
  {
   "cell_type": "markdown",
   "metadata": {},
   "source": [
    "### データローダーを定義する\n",
    "さて、データを前処理したとしても、どのように持ってくるか決めたほうが便利です。  \n",
    "一つずつなのか、３つずつなのかとか、ランダムに取り出してほしいとか、\n",
    "そんな要望を実装するためのものとして、```DataLoader```というものがあります。  "
   ]
  },
  {
   "cell_type": "code",
   "execution_count": null,
   "metadata": {},
   "outputs": [],
   "source": [
    "BATCH_SIZE = 64 #一度に取り出すデータ数です。\n",
    "trainloader = torch.utils.data.DataLoader(trainset, batch_size=BATCH_SIZE,\n",
    "                                          shuffle=True)\n",
    "\n",
    "testloader = torch.utils.data.DataLoader(testset, batch_size=BATCH_SIZE,\n",
    "                                         shuffle=False)"
   ]
  },
  {
   "cell_type": "markdown",
   "metadata": {},
   "source": [
    "## ・AI モデルの定義\n",
    "画像分類の処理に特化したAIを定義します。\n",
    "一言でAIといっても様々な方式、理論があります。単純に一つのAIが全部できれば良いのですが、現代でもそううまくいきません。  \n",
    "パラメータを持つ、AIの形（モデル）を決めて行きましょう。  \n",
    "下のこんなものがAIモデルです。"
   ]
  },
  {
   "cell_type": "code",
   "execution_count": null,
   "metadata": {},
   "outputs": [],
   "source": [
    "import torch.nn as nn # ある一つの機能を持った、`Layer`というものをひとまとめにしたものです。\n",
    "import torch.nn.functional as F # 関数をたくさんまとめたライブラリです。\n",
    "from torchsummaryX import summary # モデルの大まかな形やパラメータ量などを算出してくれるものです。\n",
    "from torch.utils.tensorboard import SummaryWriter # 計算グラフ（データの流れ）をグラフィカルに描画するためのものです。\n",
    "\n",
    "class Net(nn.Module): # クラスは設計図のようなものです。\n",
    "    def __init__(self):\n",
    "        super().__init__()\n",
    "        ## ここの中にレイヤーを定義していきます。######################\n",
    "\n",
    "        self.conv1 = nn.Conv2d(in_channels=3,out_channels=8,kernel_size=(5,5)) # RGBの3カラーチャネルを8にする5x5の畳み込みレイヤーです。\n",
    "        self.pool1 = nn.MaxPool2d(kernel_size=2,stride=2) # 画像を縦横1/2のサイズにするレイヤーです。\n",
    "        self.conv2 = nn.Conv2d(8, 16, 5)# nn.Conv2d(in_channels=8,out_channels=16,kernel_size=(5,5))と同じ意味です。\n",
    "                                        # kernel_sizeが正方形の正方形の時は一つの値で指定できます。\n",
    "        self.pool2 = nn.MaxPool2d(2, 2) # 順番があっていれば名前も引数の省略もできます。\n",
    "        self.fc1 = nn.Linear(in_features=16 * 5 * 5, out_features=128) # 全結合層です。16x5x5=400の入力を128に変換しています。\n",
    "        self.fc2 = nn.Linear(128, 64) # nn.Linear(in_features=128, out_features=64)と同じ意味です。\n",
    "        self.fc3 = nn.Linear(64, 10) # 画像を10種類に分類する問題なので、最後の層の出力数は10個です。\n",
    "\n",
    "        ############################################################\n",
    "\n",
    "    def forward(self, x): # さて入力データxを先ほど定義したレイヤーに通していきましょう。\n",
    "        x = self.conv1(x) # self.conv1に通して、\n",
    "        x = F.relu(x) # `Re`ctified `L`inear `U`nit (ReLU) という関数に通します。\n",
    "        x = self.pool1(x) # self.pool1に通します。\n",
    "        x = self.pool2(F.relu(self.conv2(x))) # まとめて通すこともできます。\n",
    "        # この時点で3x32x32だった入力画像は、16x5x5になっています。\n",
    "        x = torch.flatten(x, 1) # 全結合層の入力は400なので、データの形を平坦(flatten)にして合わせます。\n",
    "        x = self.fc1(x) # Full-Connection Layer(全結合層)に通して\n",
    "        x = F.relu(x) # relu関数に通して\n",
    "        x = self.fc3(F.relu(self.fc2(x))) # 面倒くさいので全部ひとまとめに通して\n",
    "        return x # 結果を返します。\n",
    "\n",
    "\n",
    "net = Net().to(device) # 設計図から実体（インスタンス）を作り上げます。さらに同時にto(device)で演算デバイスへ送っています\n",
    "writer = SummaryWriter() "
   ]
  },
  {
   "cell_type": "markdown",
   "metadata": {},
   "source": [
    "今回はConv2dだとかMaxPool2dだとかLayerの解説はしませんが、\n",
    "```Python\n",
    "class ModelNoNamae(nn.Module):\n",
    "    def __init__(self):\n",
    "        super().__init__()\n",
    "        ######################\n",
    "        ここの間にLayerを書きます。\n",
    "        ######################\n",
    "    \n",
    "    def forward(self, x):\n",
    "        ######################\n",
    "        ここの間にデータxをLayerにどう通していくかの流れを書きます。\n",
    "        ######################\n",
    "        return x\n",
    "```\n",
    "という構造でAIの形を定義できることだけは覚えておいてください。  "
   ]
  },
  {
   "cell_type": "markdown",
   "metadata": {},
   "source": [
    "### モデルの可視化\n",
    "実はPyTorchという深層学習ライブラリ独特の仕様で、データを流すまでモデルの形が完全に決まりません。  \n",
    "そこでダミーデータを流して上げることで可視化します。"
   ]
  },
  {
   "cell_type": "code",
   "execution_count": null,
   "metadata": {},
   "outputs": [],
   "source": [
    "dummy = torch.randn(1,3,32,32,device=device) # ダミーデータを「標準分布」からサンプルします。3x32x32の形のデータを1個とるので、1x3x32x32 -> 1,3,32,32です。\n",
    "net(dummy) # これでモデルにデータを通します。\n",
    "print(net) # printでも表示できます。\n",
    "summary(net, dummy) # 詳しい内容を知ることができます。\n",
    "writer.add_graph(net,dummy) # グラフィカルにみることができます。\n",
    "writer.close()"
   ]
  },
  {
   "cell_type": "markdown",
   "metadata": {},
   "source": [
    "## ・ 学習\n",
    "先ほど定義したAIモデルを学習するための処理（関数）を書きます。  \n",
    "AIモデルは学習可能(変更可能)な「パラメータ」を持ち、それを使って入力データを処理します。そして出力結果と答えを照らし合わせて、どれだけ答えに近いか（誤差や損失）を計算します。  \n",
    "その損失をもとに各パラメータの値を大きく/小さくする指標である「勾配」を算出します。   \n",
    "AIは答えと自分の回答との間違い（誤差や損失）をできるだけ小さくしようと学習しますので、勾配に沿って、できるだけ損失が小さくなるように、損失の山を駆け下って行きます。（最小化問題）  \n",
    "そうして損失の山を駆け下り切り、損失の減少が止まったら学習終了です。   \n",
    "(GIFの入手元: https://ichi.pro/python-de-no-nyu-rarunettowa-ku-no-kobai-koka-oyobi-sonshitsu-randosuke-pu-no-anime-shon-254364930818135)\n",
    "\n",
    "<img src=\"./勾配降下法.gif\">"
   ]
  },
  {
   "cell_type": "markdown",
   "metadata": {},
   "source": [
    "### 誤差の最小化方法の決定\n",
    "ひとえに誤差（損失）を最小化するといっても、いろんな方法があります。誤差の取り方だとか、山の下り方（重みの更新方法）とかを決めましょう"
   ]
  },
  {
   "cell_type": "code",
   "execution_count": null,
   "metadata": {},
   "outputs": [],
   "source": [
    "import torch.optim as optim # 最適化手法（山の下り方）をまとめたライブラリです。\n",
    "\n",
    "criterion = nn.CrossEntropyLoss() # 損失関数という、出力と答えの差（損失）を計算する関数です。\n",
    "optimizer = optim.Adam(net.parameters(), lr=0.001) \n",
    "# lr : Learning Rate（学習率）のこと。坂を下るスピードを調整する"
   ]
  },
  {
   "cell_type": "code",
   "execution_count": null,
   "metadata": {},
   "outputs": [],
   "source": [
    "def train(dataloader, model, loss_fn, optimizer):\n",
    "    size = len(dataloader.dataset)\n",
    "    model.train() # モデルを学習モードにします。\n",
    "    for batch, (X, y) in enumerate(dataloader): # データをBATCH_SIZEごとに取り出して、\n",
    "        X, y = X.to(device), y.to(device) # 演算デバイスに送ります。\n",
    "\n",
    "        # Compute prediction error\n",
    "        pred = model(X) # データXから予測して、\n",
    "        loss = loss_fn(pred, y) # 答えとの損失を取ります。\n",
    "\n",
    "        # Backpropagation\n",
    "        optimizer.zero_grad() # optimzierを初期化して\n",
    "        loss.backward() # 勾配を算出します。\n",
    "        optimizer.step() # パラメータを更新します。\n",
    "\n",
    "        # 学習途中の状態を出力します。\n",
    "        if batch % 100 == 0: # 学習途中の状態を出力します。\n",
    "            loss, current = loss.item(), batch * len(X)\n",
    "            print(f\"loss: {loss:>7f}  [{current:>5d}/{size:>5d}]\")"
   ]
  },
  {
   "cell_type": "markdown",
   "metadata": {},
   "source": [
    "## ・評価\n",
    "ちゃんとうまく学習できているか、評価する処理（関数）を書きます。"
   ]
  },
  {
   "cell_type": "code",
   "execution_count": null,
   "metadata": {},
   "outputs": [],
   "source": [
    "def test(dataloader, model, loss_fn):\n",
    "    size = len(dataloader.dataset)\n",
    "    num_batches = len(dataloader)\n",
    "    model.eval() # モデルを評価モードにします。計算効率が上がります。\n",
    "    test_loss, correct = 0, 0\n",
    "    with torch.no_grad(): # 勾配計算を無視するモードに入ります。勾配計算をしないので処理が軽くなります。\n",
    "        for X, y in dataloader:\n",
    "            X, y = X.to(device), y.to(device)\n",
    "            pred = model(X)\n",
    "            test_loss += loss_fn(pred, y).item() # 損失を足していきます。\n",
    "            correct += (pred.argmax(1) == y).type(torch.float).sum().item() # 正答率を足して行きます。\n",
    "    test_loss /= num_batches # 平均をとって\n",
    "    correct /= size # 平均をとって\n",
    "    # 表示！\n",
    "    print(f\"Test Error: \\n Accuracy: {(100*correct):>0.1f}%, Avg loss: {test_loss:>8f} \\n\")"
   ]
  },
  {
   "cell_type": "markdown",
   "metadata": {},
   "source": [
    "## ・実行\n",
    "さて、学習と評価を実行してみましょう！どんなAIができるでしょうか？"
   ]
  },
  {
   "cell_type": "code",
   "execution_count": null,
   "metadata": {},
   "outputs": [],
   "source": [
    "epochs = 10 # EPOCH（世代数）は、データをすべて使って学習する回数のことです。\n",
    "for t in range(epochs):\n",
    "    print(f\"Epoch {t+1}\\n-------------------------------\")\n",
    "    train(trainloader, net, criterion, optimizer)\n",
    "    test(testloader, net, criterion)\n",
    "print(\"Done!\")"
   ]
  },
  {
   "cell_type": "code",
   "execution_count": null,
   "metadata": {},
   "outputs": [],
   "source": [
    "# 学習後のパラメータを保存する\n",
    "torch.save(net.state_dict(),\"parameters/trained_parameters.pth\")\n",
    "\n",
    "# 学習後のパラメータをloadする\n",
    "#net.load_state_dict(torch.load(\"path/to/parameter\"))"
   ]
  },
  {
   "cell_type": "markdown",
   "metadata": {},
   "source": [
    "## ・結果を見る"
   ]
  },
  {
   "cell_type": "code",
   "execution_count": null,
   "metadata": {},
   "outputs": [],
   "source": [
    "with torch.no_grad():\n",
    "    row, col = 2,5 # 2x5のグラフウィンドウを作ります。\n",
    "    now_index = 0\n",
    "    fig, axes = plt.subplots(row,col,figsize=(col*2+1,row*2+2)) # 空のグラフを作って\n",
    "    for r in range(row):\n",
    "        for c in range(col):\n",
    "            out = testset[now_index] # データを一つ取り出します。(画像,ラベルの数字)の順番で返されます。\n",
    "            label =  out[1] # ラベルデータを取り出して\n",
    "            img = out[0].unsqueeze(0).to(device) # 演算デバイスに送って\n",
    "            pred = torch.softmax(net(img).squeeze(0),0) # 予測確率分布を出力させて\n",
    "            pred_label = torch.argmax(pred).item() # その中で最も確率の高いラベルを予測ラベルとします。\n",
    "\n",
    "            text = f\"prediction: {classes[pred_label]}, {pred[pred_label]*100:>0.1f}%\\nanswer: {classes[label]}\"\n",
    "\n",
    "            img = out[0].permute(1,2,0).cpu().numpy() # matplotlib描画するための画像形式にします\n",
    "            ax = axes[r][c] # r行c列目の空のグラフを取り出して\n",
    "            ax.imshow(img)  # 画像を埋め込みます。\n",
    "            ax.text(0,45,text)\n",
    "\n",
    "            now_index += 1 # 次のデータを取り出します。\n",
    "plt.show() # 全体のグラフウィンドウを描画します。\n"
   ]
  },
  {
   "cell_type": "markdown",
   "metadata": {},
   "source": [
    "### 自分の画像を判別させてみよう！\n",
    "AIができました！それでは自分でとってきた画像を判別させてみましょう！"
   ]
  },
  {
   "cell_type": "code",
   "execution_count": null,
   "metadata": {},
   "outputs": [],
   "source": [
    "path = \"data/dog.png\" # 判別したい画像のファイルパスを指定してください"
   ]
  },
  {
   "cell_type": "code",
   "execution_count": null,
   "metadata": {},
   "outputs": [],
   "source": [
    "img = torchvision.io.read_image(path)\n",
    "img = torchvision.transforms.functional.resize(img,size=(32,32))\n",
    "img = img/255\n",
    "plt.imshow(img.permute(1,2,0))\n",
    "plt.title(path)\n",
    "plt.show()\n"
   ]
  },
  {
   "cell_type": "code",
   "execution_count": null,
   "metadata": {},
   "outputs": [],
   "source": [
    "with torch.no_grad():\n",
    "    img = img.to(device)\n",
    "    img = img.unsqueeze(0)\n",
    "    pred_prob = net(img).squeeze(0)\n",
    "    label = torch.argmax(pred_prob).item()\n",
    "    print(\"Your image class is\",classes[label])"
   ]
  },
  {
   "cell_type": "markdown",
   "metadata": {},
   "source": [
    "# 参照\n",
    "学習フロー: \n",
    "https://pytorch.org/tutorials/beginner/basics/quickstart_tutorial.html  \n",
    "画像認識について: \n",
    "https://pytorch.org/tutorials/beginner/blitz/cifar10_tutorial.html  \n"
   ]
  },
  {
   "cell_type": "code",
   "execution_count": null,
   "metadata": {},
   "outputs": [],
   "source": []
  }
 ],
 "metadata": {
  "interpreter": {
   "hash": "c4467f1926f03d6fcd44316305074fb8c0b3cdc10977f45ea461091401ebc85a"
  },
  "kernelspec": {
   "display_name": "Python 3.9.9 64-bit ('JARVIS': conda)",
   "language": "python",
   "name": "python3"
  },
  "language_info": {
   "codemirror_mode": {
    "name": "ipython",
    "version": 3
   },
   "file_extension": ".py",
   "mimetype": "text/x-python",
   "name": "python",
   "nbconvert_exporter": "python",
   "pygments_lexer": "ipython3",
   "version": "3.9.9"
  },
  "orig_nbformat": 4
 },
 "nbformat": 4,
 "nbformat_minor": 2
}
